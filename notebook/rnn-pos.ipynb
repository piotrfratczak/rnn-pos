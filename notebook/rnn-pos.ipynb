{
  "nbformat": 4,
  "nbformat_minor": 0,
  "metadata": {
    "colab": {
      "name": "nlp-rnn-pos.ipynb",
      "provenance": [],
      "collapsed_sections": []
    },
    "kernelspec": {
      "name": "python3",
      "display_name": "Python 3"
    },
    "language_info": {
      "name": "python"
    },
    "accelerator": "GPU"
  },
  "cells": [
    {
      "cell_type": "code",
      "source": [
        "!git clone https://github.com/piotrfratczak/rnn-pos.git"
      ],
      "metadata": {
        "id": "PIfULGnVGKoa"
      },
      "execution_count": null,
      "outputs": []
    },
    {
      "cell_type": "code",
      "execution_count": null,
      "metadata": {
        "id": "bb6Eh8bgNCW7"
      },
      "outputs": [],
      "source": [
        "%cd rnn-pos\n",
        "!ls\n",
        "%cd data/\n",
        "!wget https://nlp.stanford.edu/data/glove.6B.zip\n",
        "!unzip glove.6B.zip\n",
        "!mv glove*txt glove\n",
        "%cd .."
      ]
    },
    {
      "cell_type": "code",
      "source": [
        "# Install dependencies\n",
        "!(curl https://raw.githubusercontent.com/plasticityai/magnitude/master/install-colab.sh | /bin/bash 1>/dev/null 2>/dev/null)\n",
        "!pip install hydra-core==1.1.1 omegaconf==2.1.1 bitarray sacrebleu tensorboardX stanza"
      ],
      "metadata": {
        "id": "4T0mhn4nlvO6"
      },
      "execution_count": null,
      "outputs": []
    },
    {
      "cell_type": "code",
      "source": [
        "!python3 main.py"
      ],
      "metadata": {
        "id": "bTloWQ_Wxyqe"
      },
      "execution_count": null,
      "outputs": []
    },
    {
      "cell_type": "code",
      "source": [
        "!zip -r results.zip results\n",
        "from google.colab import files\n",
        "files.download('/content/rnn-pos/results.zip')"
      ],
      "metadata": {
        "id": "b0FvXOcgVGXk"
      },
      "execution_count": null,
      "outputs": []
    }
  ]
}